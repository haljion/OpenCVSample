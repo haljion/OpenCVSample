{
 "cells": [
  {
   "cell_type": "markdown",
   "metadata": {},
   "source": [
    "# 直線\n",
    "- ρ：原点と直線までの最短距離\n",
    "- θ：x軸から直線までの角度\n",
    "- y = -(cosθ / sinθ)x + (ρ / sinθ)"
   ]
  },
  {
   "cell_type": "code",
   "execution_count": 1,
   "metadata": {},
   "outputs": [],
   "source": [
    "import cv2\n",
    "import numpy as np\n",
    "img = cv2.imread(\"../data/img/road.jpg\")\n",
    "img_g = cv2.imread(\"../data/img/road.jpg\", 0)"
   ]
  },
  {
   "cell_type": "code",
   "execution_count": 2,
   "metadata": {},
   "outputs": [],
   "source": [
    "cv2.imshow(\"img\",img)\n",
    "cv2.waitKey(0)\n",
    "cv2.destroyAllWindows()"
   ]
  },
  {
   "cell_type": "code",
   "execution_count": 3,
   "metadata": {},
   "outputs": [],
   "source": [
    "# Cannyでエッジを検出し、直線を検出しやすくする\n",
    "img_canny = cv2.Canny(img_g, 300, 450)\n",
    "cv2.imshow(\"canny\",img_canny)\n",
    "cv2.waitKey(0)\n",
    "cv2.destroyAllWindows()"
   ]
  },
  {
   "cell_type": "code",
   "execution_count": 5,
   "metadata": {},
   "outputs": [
    {
     "data": {
      "text/plain": [
       "array([[[-5.8100000e+02,  3.0717795e+00]],\n",
       "\n",
       "       [[-5.6700000e+02,  3.0543261e+00]],\n",
       "\n",
       "       [[ 8.7500000e+02,  1.5707964e+00]],\n",
       "\n",
       "       [[ 4.5400000e+02,  1.5358897e+00]],\n",
       "\n",
       "       [[ 4.3700000e+02,  1.5533431e+00]],\n",
       "\n",
       "       [[ 6.0400000e+02,  0.0000000e+00]],\n",
       "\n",
       "       [[ 8.7900000e+02,  1.5184364e+00]],\n",
       "\n",
       "       [[ 4.4800000e+02,  1.5533431e+00]],\n",
       "\n",
       "       [[ 8.8000000e+02,  1.5009831e+00]],\n",
       "\n",
       "       [[ 6.1700000e+02,  1.7453292e-02]],\n",
       "\n",
       "       [[ 8.2900000e+02,  1.5707964e+00]],\n",
       "\n",
       "       [[ 6.1900000e+02,  1.2042772e+00]],\n",
       "\n",
       "       [[ 8.7300000e+02,  1.5533431e+00]],\n",
       "\n",
       "       [[ 6.2400000e+02,  1.1868238e+00]],\n",
       "\n",
       "       [[ 8.7000000e+02,  1.5358897e+00]],\n",
       "\n",
       "       [[ 8.2600000e+02,  1.5707964e+00]],\n",
       "\n",
       "       [[ 8.3900000e+02,  1.5882496e+00]],\n",
       "\n",
       "       [[ 8.5400000e+02,  1.5533431e+00]],\n",
       "\n",
       "       [[ 8.7800000e+02,  1.5533431e+00]],\n",
       "\n",
       "       [[ 4.4400000e+02,  1.5707964e+00]],\n",
       "\n",
       "       [[ 7.8000000e+02,  1.6406095e+00]],\n",
       "\n",
       "       [[ 8.7600000e+02,  1.5533431e+00]],\n",
       "\n",
       "       [[ 8.4500000e+02,  1.5707964e+00]],\n",
       "\n",
       "       [[ 8.6300000e+02,  1.5707964e+00]],\n",
       "\n",
       "       [[ 8.9400000e+02,  1.4835298e+00]],\n",
       "\n",
       "       [[ 8.6000000e+02,  1.5882496e+00]],\n",
       "\n",
       "       [[ 8.9900000e+02,  1.4835298e+00]],\n",
       "\n",
       "       [[ 8.7100000e+02,  1.5184364e+00]],\n",
       "\n",
       "       [[ 8.8900000e+02,  1.5184364e+00]],\n",
       "\n",
       "       [[ 8.4700000e+02,  1.5533431e+00]],\n",
       "\n",
       "       [[ 7.6500000e+02,  1.6580628e+00]],\n",
       "\n",
       "       [[ 7.4900000e+02,  1.6755161e+00]],\n",
       "\n",
       "       [[ 8.9700000e+02,  1.5009831e+00]],\n",
       "\n",
       "       [[ 7.8200000e+02,  1.6231562e+00]]], dtype=float32)"
      ]
     },
     "execution_count": 5,
     "metadata": {},
     "output_type": "execute_result"
    }
   ],
   "source": [
    "# 画像、ρの刻み幅、θの刻み幅, 閾値(n回以上ρ・θが出現すると直線と判定)\n",
    "lines = cv2.HoughLines(img_canny, 1, np.pi/180, 100)\n",
    "lines"
   ]
  },
  {
   "cell_type": "code",
   "execution_count": 6,
   "metadata": {},
   "outputs": [],
   "source": [
    "# 直線の描画\n",
    "for i in lines[:]:\n",
    "    rho = i[0][0]\n",
    "    theta = i[0][1]\n",
    "    a = np.cos(theta)\n",
    "    b = np.sin(theta)\n",
    "    x0 = rho * a\n",
    "    y0 = rho * b\n",
    "    t = 1000\n",
    "    x1 = int(x0 + 1000 * (-b))\n",
    "    y1 = int(y0 + 1000 * a)\n",
    "    x2 = int(x0 - 1000 * (-b))\n",
    "    y2 = int(y0 - 1000 * a)\n",
    "    # 始点、終点\n",
    "    cv2.line(img, (x1,y1), (x2,y2), (255, 0, 0), 1)\n",
    "    \n",
    "    "
   ]
  },
  {
   "cell_type": "code",
   "execution_count": 7,
   "metadata": {},
   "outputs": [],
   "source": [
    "cv2.imshow(\"img\",img)\n",
    "cv2.waitKey(0)\n",
    "cv2.destroyAllWindows()"
   ]
  },
  {
   "cell_type": "markdown",
   "metadata": {},
   "source": [
    "# 円"
   ]
  },
  {
   "cell_type": "code",
   "execution_count": 8,
   "metadata": {},
   "outputs": [],
   "source": [
    "img2 = cv2.imread(\"../data/img/grapes.jpg\")\n",
    "img2_g = cv2.imread(\"../data/img/grapes.jpg\", 0)"
   ]
  },
  {
   "cell_type": "code",
   "execution_count": 10,
   "metadata": {},
   "outputs": [],
   "source": [
    "cv2.imshow(\"img2\",img2)\n",
    "cv2.waitKey(0)\n",
    "cv2.destroyAllWindows()"
   ]
  },
  {
   "cell_type": "code",
   "execution_count": 11,
   "metadata": {},
   "outputs": [
    {
     "name": "stdout",
     "output_type": "stream",
     "text": [
      "\u001b[0;31mDocstring:\u001b[0m\n",
      "HoughCircles(image, method, dp, minDist[, circles[, param1[, param2[, minRadius[, maxRadius]]]]]) -> circles\n",
      ".   @brief Finds circles in a grayscale image using the Hough transform.\n",
      ".   \n",
      ".   The function finds circles in a grayscale image using a modification of the Hough transform.\n",
      ".   \n",
      ".   Example: :\n",
      ".   @include snippets/imgproc_HoughLinesCircles.cpp\n",
      ".   \n",
      ".   @note Usually the function detects the centers of circles well. However, it may fail to find correct\n",
      ".   radii. You can assist to the function by specifying the radius range ( minRadius and maxRadius ) if\n",
      ".   you know it. Or, in the case of #HOUGH_GRADIENT method you may set maxRadius to a negative number\n",
      ".   to return centers only without radius search, and find the correct radius using an additional procedure.\n",
      ".   \n",
      ".   It also helps to smooth image a bit unless it's already soft. For example,\n",
      ".   GaussianBlur() with 7x7 kernel and 1.5x1.5 sigma or similar blurring may help.\n",
      ".   \n",
      ".   @param image 8-bit, single-channel, grayscale input image.\n",
      ".   @param circles Output vector of found circles. Each vector is encoded as  3 or 4 element\n",
      ".   floating-point vector \\f$(x, y, radius)\\f$ or \\f$(x, y, radius, votes)\\f$ .\n",
      ".   @param method Detection method, see #HoughModes. The available methods are #HOUGH_GRADIENT and #HOUGH_GRADIENT_ALT.\n",
      ".   @param dp Inverse ratio of the accumulator resolution to the image resolution. For example, if\n",
      ".   dp=1 , the accumulator has the same resolution as the input image. If dp=2 , the accumulator has\n",
      ".   half as big width and height. For #HOUGH_GRADIENT_ALT the recommended value is dp=1.5,\n",
      ".   unless some small very circles need to be detected.\n",
      ".   @param minDist Minimum distance between the centers of the detected circles. If the parameter is\n",
      ".   too small, multiple neighbor circles may be falsely detected in addition to a true one. If it is\n",
      ".   too large, some circles may be missed.\n",
      ".   @param param1 First method-specific parameter. In case of #HOUGH_GRADIENT and #HOUGH_GRADIENT_ALT,\n",
      ".   it is the higher threshold of the two passed to the Canny edge detector (the lower one is twice smaller).\n",
      ".   Note that #HOUGH_GRADIENT_ALT uses #Scharr algorithm to compute image derivatives, so the threshold value\n",
      ".   should normally be higher, such as 300 or normally exposed and contrasty images.\n",
      ".   @param param2 Second method-specific parameter. In case of #HOUGH_GRADIENT, it is the\n",
      ".   accumulator threshold for the circle centers at the detection stage. The smaller it is, the more\n",
      ".   false circles may be detected. Circles, corresponding to the larger accumulator values, will be\n",
      ".   returned first. In the case of #HOUGH_GRADIENT_ALT algorithm, this is the circle \"perfectness\" measure.\n",
      ".   The closer it to 1, the better shaped circles algorithm selects. In most cases 0.9 should be fine.\n",
      ".   If you want get better detection of small circles, you may decrease it to 0.85, 0.8 or even less.\n",
      ".   But then also try to limit the search range [minRadius, maxRadius] to avoid many false circles.\n",
      ".   @param minRadius Minimum circle radius.\n",
      ".   @param maxRadius Maximum circle radius. If <= 0, uses the maximum image dimension. If < 0, #HOUGH_GRADIENT returns\n",
      ".   centers without finding the radius. #HOUGH_GRADIENT_ALT always computes circle radiuses.\n",
      ".   \n",
      ".   @sa fitEllipse, minEnclosingCircle\n",
      "\u001b[0;31mType:\u001b[0m      builtin_function_or_method"
     ]
    }
   ],
   "source": [
    "# 引数確認\n",
    "cicles = cv2.HoughCircles?"
   ]
  },
  {
   "cell_type": "code",
   "execution_count": 15,
   "metadata": {},
   "outputs": [
    {
     "data": {
      "text/plain": [
       "array([[[516.5, 196.5,  18.3],\n",
       "        [256.5,  40.5,  21.7],\n",
       "        [628.5, 397.5,  20.5],\n",
       "        [462.5, 199.5,  18.2],\n",
       "        [743.5, 393.5,  17.2],\n",
       "        [532.5, 540.5,  16.1],\n",
       "        [343.5, 386.5,  26. ],\n",
       "        [324.5, 319.5,  19.4],\n",
       "        [622.5, 189.5,  19.4],\n",
       "        [282.5, 583.5,  16. ],\n",
       "        [872.5, 293.5,  21.7],\n",
       "        [553.5, 143.5,  18.3],\n",
       "        [391.5, 274.5,  21.7],\n",
       "        [930.5, 586.5,  18.3],\n",
       "        [562.5, 345.5,  19.4],\n",
       "        [755.5, 382.5,  12.7],\n",
       "        [813.5, 472.5,  19.4],\n",
       "        [463.5, 348.5,  21.6],\n",
       "        [ 50.5,  36.5,  19.4],\n",
       "        [856.5,  90.5,  19.4],\n",
       "        [356.5, 556.5,  17.2],\n",
       "        [565.5, 303.5,  21.7],\n",
       "        [ 77.5, 363.5,  17.2],\n",
       "        [253.5, 543.5,  21.6],\n",
       "        [514.5, 262.5,  19.3],\n",
       "        [783.5, 354.5,  16.1],\n",
       "        [791.5, 491.5,  18.3],\n",
       "        [226.5, 515.5,  17.2],\n",
       "        [266.5, 449.5,  17.2],\n",
       "        [319.5, 375.5,  17.2],\n",
       "        [305.5, 300.5,  21.7],\n",
       "        [181.5, 361.5,  21.7],\n",
       "        [342.5, 382.5,  19.4],\n",
       "        [431.5,  83.5,  16. ],\n",
       "        [371.5, 385.5,  14.7],\n",
       "        [653.5, 525.5,  18.3],\n",
       "        [282.5, 246.5,  17.2],\n",
       "        [346.5, 384.5,  16.1],\n",
       "        [501.5, 106.5,  16. ],\n",
       "        [329.5, 410.5,  15. ],\n",
       "        [610.5, 373.5,  13.8],\n",
       "        [862.5, 511.5,  21.6],\n",
       "        [869.5, 509.5,  18.3],\n",
       "        [934.5, 404.5,  17.2],\n",
       "        [692.5, 453.5,  14.7],\n",
       "        [350.5, 555.5,  19.4],\n",
       "        [819.5, 511.5,  17.2],\n",
       "        [852.5, 325.5,  17.2],\n",
       "        [665.5, 497.5,  15. ],\n",
       "        [287.5, 376.5,  17.2],\n",
       "        [222.5, 481.5,  14.9],\n",
       "        [555.5, 175.5,  18.3],\n",
       "        [254.5, 542.5,  17.2],\n",
       "        [808.5, 468.5,  16.1],\n",
       "        [701.5, 352.5,  14.9],\n",
       "        [121.5, 619.5,  18.3],\n",
       "        [231.5, 605.5,  15. ],\n",
       "        [325.5, 407.5,  15. ],\n",
       "        [650.5, 351.5,  15. ],\n",
       "        [173.5, 281.5,  13.8],\n",
       "        [292.5, 540.5,  15. ],\n",
       "        [694.5, 248.5,  12.7],\n",
       "        [698.5, 353.5,  17.2],\n",
       "        [479.5, 118.5,  15. ],\n",
       "        [841.5, 526.5,  15. ],\n",
       "        [270.5, 448.5,  13.8],\n",
       "        [880.5, 480.5,  13.8],\n",
       "        [927.5, 501.5,  13.8],\n",
       "        [220.5, 484.5,  16. ],\n",
       "        [260.5, 167.5,  17.2],\n",
       "        [666.5, 498.5,  16.1],\n",
       "        [662.5, 283.5,  13.8],\n",
       "        [674.5, 541.5,  13.8],\n",
       "        [622.5, 401.5,  13.6],\n",
       "        [266.5, 464.5,  12.7],\n",
       "        [533.5, 541.5,  15. ],\n",
       "        [841.5, 484.5,  13.8],\n",
       "        [790.5, 493.5,  17.2],\n",
       "        [236.5, 539.5,  13.8],\n",
       "        [553.5, 606.5,  13.8],\n",
       "        [938.5, 378.5,  13.8],\n",
       "        [694.5, 455.5,  12.7],\n",
       "        [264.5, 446.5,  13.8],\n",
       "        [811.5, 469.5,  13.8],\n",
       "        [216.5, 193.5,  12.7],\n",
       "        [354.5, 557.5,  17.2],\n",
       "        [227.5, 271.5,  16. ],\n",
       "        [794.5, 493.5,  12.7],\n",
       "        [919.5, 115.5,  11.6],\n",
       "        [576.5, 596.5,  13.8],\n",
       "        [396.5, 333.5,  12.5],\n",
       "        [623.5, 558.5,  16. ],\n",
       "        [919.5, 169.5,  15. ],\n",
       "        [249.5, 511.5,  13.8],\n",
       "        [469.5,  96.5,  13.8],\n",
       "        [651.5, 354.5,  11.6],\n",
       "        [831.5, 179.5,  11.6],\n",
       "        [551.5, 569.5,  13.8],\n",
       "        [274.5, 241.5,  12.5],\n",
       "        [294.5, 380.5,  11.6],\n",
       "        [814.5, 476.5,  13.8],\n",
       "        [492.5, 460.5,  12.5],\n",
       "        [278.5, 246.5,  11.6]]], dtype=float32)"
      ]
     },
     "execution_count": 15,
     "metadata": {},
     "output_type": "execute_result"
    }
   ],
   "source": [
    "# 手法(1種類)、dp(精度)：基本的には1を指定？、minDist：円の中心間の距離、param1・param2：cannyのパラメータ,min(max)Radius:検出する円の半径の閾値\n",
    "circles = cv2.HoughCircles(img2_g, cv2.HOUGH_GRADIENT, dp=1, minDist=1, param1=20, param2=35, minRadius=1, maxRadius=30)\n",
    "circles"
   ]
  },
  {
   "cell_type": "code",
   "execution_count": 30,
   "metadata": {},
   "outputs": [],
   "source": [
    "for x,y,r in circles[0]:\n",
    "    # x,y,r\n",
    "    # intに変換しないと引数エラー バージョンの問題？\n",
    "    cv2.circle(img2, (int(x),int(y)), int(r), (255,0,0), 1)"
   ]
  },
  {
   "cell_type": "code",
   "execution_count": 31,
   "metadata": {},
   "outputs": [],
   "source": [
    "cv2.imshow(\"img2\",img2)\n",
    "cv2.waitKey(0)\n",
    "cv2.destroyAllWindows()"
   ]
  },
  {
   "cell_type": "code",
   "execution_count": null,
   "metadata": {},
   "outputs": [],
   "source": []
  }
 ],
 "metadata": {
  "kernelspec": {
   "display_name": "base",
   "language": "python",
   "name": "python3"
  },
  "language_info": {
   "codemirror_mode": {
    "name": "ipython",
    "version": 3
   },
   "file_extension": ".py",
   "mimetype": "text/x-python",
   "name": "python",
   "nbconvert_exporter": "python",
   "pygments_lexer": "ipython3",
   "version": "3.11.6"
  }
 },
 "nbformat": 4,
 "nbformat_minor": 2
}
