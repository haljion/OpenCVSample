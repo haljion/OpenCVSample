{
 "cells": [
  {
   "cell_type": "markdown",
   "metadata": {},
   "source": [
    "# モルフォロジー演算\n",
    "- モルフォロジー:形態\n",
    "- 膨張と収縮からなる\n",
    " - erode(収縮)：2つの図形が分離\n",
    " - dliate(膨張)：2つの図形が一体化\n",
    "- 図形の大きさを保ちながら形状操作する例\n",
    " - オープニング(収縮→膨張)：ノイズ削除などに利用\n",
    " - クロージング(膨張→収縮)：ノイズの大きさはそのまま"
   ]
  },
  {
   "cell_type": "code",
   "execution_count": 1,
   "metadata": {},
   "outputs": [],
   "source": [
    "import cv2\n",
    "import numpy as np\n",
    "img = cv2.imread(\"../data/img/floor.jpg\")\n"
   ]
  },
  {
   "cell_type": "code",
   "execution_count": 2,
   "metadata": {},
   "outputs": [],
   "source": [
    "# 画像を2値化する必要がある\n",
    "ret, img_th = cv2.threshold(img,110,255,cv2.THRESH_BINARY)\n",
    "cv2.imshow(\"img_th\",img_th)\n",
    "cv2.waitKey(0)\n",
    "cv2.destroyAllWindows()"
   ]
  },
  {
   "cell_type": "code",
   "execution_count": 3,
   "metadata": {},
   "outputs": [],
   "source": [
    "# カーネル作成\n",
    "# 着目画素を白/黒どちらにするか\n",
    "# 指定した範囲に白/黒の画素がある場合は色変換を行う\n",
    "# 膨張：白 収縮：黒\n",
    "kernel = np.ones((3,3), dtype=np.uint8)\n",
    "# 膨張\n",
    "img_d = cv2.dilate(img_th, kernel)\n",
    "# 収縮\n",
    "img_e = cv2.erode(img_th, kernel)\n"
   ]
  },
  {
   "cell_type": "code",
   "execution_count": 4,
   "metadata": {},
   "outputs": [],
   "source": [
    "cv2.imshow(\"img\",img_th)\n",
    "cv2.imshow(\"img_e\",img_e)\n",
    "cv2.imshow(\"img_d\",img_d)\n",
    "\n",
    "cv2.waitKey(0)\n",
    "cv2.destroyAllWindows()"
   ]
  },
  {
   "cell_type": "code",
   "execution_count": 5,
   "metadata": {},
   "outputs": [],
   "source": [
    "# クロージング\n",
    "# 画像、手法(クロージングなど)\n",
    "img_c = cv2.morphologyEx(img_th, cv2.MORPH_CLOSE, kernel)"
   ]
  },
  {
   "cell_type": "code",
   "execution_count": 6,
   "metadata": {},
   "outputs": [],
   "source": [
    "cv2.imshow(\"c\",img_c)\n",
    "cv2.imshow(\"img_d\",img_d)\n",
    "\n",
    "cv2.waitKey(0)\n",
    "cv2.destroyAllWindows()"
   ]
  },
  {
   "cell_type": "code",
   "execution_count": null,
   "metadata": {},
   "outputs": [],
   "source": []
  }
 ],
 "metadata": {
  "kernelspec": {
   "display_name": "base",
   "language": "python",
   "name": "python3"
  },
  "language_info": {
   "codemirror_mode": {
    "name": "ipython",
    "version": 3
   },
   "file_extension": ".py",
   "mimetype": "text/x-python",
   "name": "python",
   "nbconvert_exporter": "python",
   "pygments_lexer": "ipython3",
   "version": "3.11.6"
  }
 },
 "nbformat": 4,
 "nbformat_minor": 2
}
