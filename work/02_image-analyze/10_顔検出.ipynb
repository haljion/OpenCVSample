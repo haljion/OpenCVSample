{
 "cells": [
  {
   "cell_type": "markdown",
   "metadata": {},
   "source": [
    "# title"
   ]
  },
  {
   "cell_type": "code",
   "execution_count": 1,
   "metadata": {},
   "outputs": [],
   "source": [
    "import cv2\n",
    "# 特徴抽出機のパス\n",
    "HAAR_FILE = '/opt/conda/lib/python3.11/site-packages/cv2/data/haarcascade_frontalface_default.xml'\n",
    "cascade = cv2.CascadeClassifier(HAAR_FILE)"
   ]
  },
  {
   "cell_type": "code",
   "execution_count": 3,
   "metadata": {},
   "outputs": [],
   "source": [
    "img = cv2.imread(\"../data/img/Solvay_conference_1927.jpg\")\n",
    "img_g = cv2.imread(\"../data/img/Solvay_conference_1927.jpg\",0)\n",
    "\n",
    "cv2.imshow(\"img\",img)\n",
    "cv2.waitKey(0)\n",
    "cv2.destroyAllWindows()"
   ]
  },
  {
   "cell_type": "code",
   "execution_count": 5,
   "metadata": {},
   "outputs": [
    {
     "data": {
      "text/plain": [
       "array([[1221,  375,   51,   51],\n",
       "       [ 232,  382,   52,   52],\n",
       "       [1203,  189,   65,   65],\n",
       "       [1230,  645,   30,   30],\n",
       "       [ 339,  416,   49,   49],\n",
       "       [ 790,  425,   49,   49],\n",
       "       [1139,  421,   50,   50],\n",
       "       [1288,  420,   56,   56],\n",
       "       [ 913,  425,   56,   56],\n",
       "       [ 200,  538,   57,   57],\n",
       "       [ 538,  439,   55,   55],\n",
       "       [ 698,  510,   56,   56],\n",
       "       [  65,  516,   54,   54],\n",
       "       [ 828,  515,   56,   56],\n",
       "       [ 351,  520,   58,   58],\n",
       "       [ 966,  522,   59,   59],\n",
       "       [1126,  524,   66,   66],\n",
       "       [ 115,  570,   53,   53],\n",
       "       [1277,  533,   61,   61],\n",
       "       [ 918,  565,   62,   62],\n",
       "       [ 414,  445,   55,   55],\n",
       "       [1043,  559,   69,   69],\n",
       "       [ 421,  568,   60,   60],\n",
       "       [ 675,  449,   53,   53],\n",
       "       [ 583,  570,   70,   70],\n",
       "       [1217,  574,   60,   60],\n",
       "       [1032,  422,   56,   56],\n",
       "       [ 514,  516,   65,   65],\n",
       "       [1334,  592,   59,   59],\n",
       "       [ 265,  574,   63,   63],\n",
       "       [ 783,  563,   65,   65],\n",
       "       [ 191,  511,   64,   64],\n",
       "       [1061,  877,   37,   37]], dtype=int32)"
      ]
     },
     "execution_count": 5,
     "metadata": {},
     "output_type": "execute_result"
    }
   ],
   "source": [
    "# 顔検出\n",
    "face = cascade.detectMultiScale(img_g)\n",
    "face"
   ]
  },
  {
   "cell_type": "code",
   "execution_count": 6,
   "metadata": {},
   "outputs": [],
   "source": [
    "# 顔を四角形で描画\n",
    "for x, y, w, h in face:\n",
    "    cv2.rectangle(img, (x,y), (x+w,y+h),(0,0,255),1)"
   ]
  },
  {
   "cell_type": "code",
   "execution_count": 8,
   "metadata": {},
   "outputs": [],
   "source": [
    "cv2.imshow(\"img\",img)\n",
    "cv2.waitKey(0)\n",
    "cv2.destroyAllWindows()"
   ]
  },
  {
   "cell_type": "code",
   "execution_count": null,
   "metadata": {},
   "outputs": [],
   "source": []
  }
 ],
 "metadata": {
  "kernelspec": {
   "display_name": "base",
   "language": "python",
   "name": "python3"
  },
  "language_info": {
   "codemirror_mode": {
    "name": "ipython",
    "version": 3
   },
   "file_extension": ".py",
   "mimetype": "text/x-python",
   "name": "python",
   "nbconvert_exporter": "python",
   "pygments_lexer": "ipython3",
   "version": "3.11.6"
  }
 },
 "nbformat": 4,
 "nbformat_minor": 2
}
