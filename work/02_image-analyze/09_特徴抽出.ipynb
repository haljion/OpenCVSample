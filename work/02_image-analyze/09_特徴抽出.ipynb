{
 "cells": [
  {
   "cell_type": "markdown",
   "metadata": {},
   "source": [
    "# 特徴抽出\n",
    "- 様々な種類の検出方法がある\n",
    "- ORB, KAZE, AKAZEなどがお手軽\n",
    "### 例：Harrisのコーナー検出\n",
    "- フラット\n",
    "    - 情報量が少ない\n",
    "    - 画像の中に方向性(対角化等により判断)がない\n",
    "- エッジ\n",
    "    - 特定の固有ベクトルの固有値だけ大きい\n",
    "- コーナー\n",
    "    - エッジが2つある=2つの大きな固有ベクトルがある"
   ]
  },
  {
   "cell_type": "code",
   "execution_count": 3,
   "metadata": {},
   "outputs": [],
   "source": [
    "import cv2 # type: ignore\n",
    "import numpy\n",
    "import copy\n",
    "img = cv2.imread(\"../data/img/buildings.jpg\")\n",
    "img_g = cv2.imread(\"../data/img/buildings.jpg\",0)"
   ]
  },
  {
   "cell_type": "code",
   "execution_count": 5,
   "metadata": {},
   "outputs": [],
   "source": [
    "# harris\n",
    "# 特徴機によって画像が上書きされてしまうため予め複製\n",
    "img_harris = copy.deepcopy(img)\n",
    "# ブロックサイズ(検出範囲), 内部で使用しているSobelフィルターの大きさ、？\n",
    "img_dst = cv2.cornerHarris(img_g, 2, 3, 0.04)"
   ]
  },
  {
   "cell_type": "code",
   "execution_count": 7,
   "metadata": {},
   "outputs": [],
   "source": [
    "# 最大点の5%以上の特徴的な量を持つ点を特徴点とし、赤色を書き込む\n",
    "img_harris[img_dst > 0.05 * img_dst.max()] = [0,0,255]"
   ]
  },
  {
   "cell_type": "code",
   "execution_count": 10,
   "metadata": {},
   "outputs": [],
   "source": [
    "cv2.imshow(\"img\",img_harris)\n",
    "cv2.waitKey(0)\n",
    "cv2.destroyAllWindows()"
   ]
  },
  {
   "cell_type": "code",
   "execution_count": 11,
   "metadata": {},
   "outputs": [],
   "source": [
    "# KAZE\n",
    "img_kaze = copy.deepcopy(img)\n",
    "# 特徴検出器\n",
    "kaze = cv2.KAZE_create()\n",
    "# 特徴点を抽出(入力画像、出力画像)\n",
    "kp1 = kaze.detect(img,None)\n",
    "# 特徴点の描画(描画先画像、特徴点、？)\n",
    "img_kaze = cv2.drawKeypoints(img_kaze, kp1, None)"
   ]
  },
  {
   "cell_type": "code",
   "execution_count": 13,
   "metadata": {},
   "outputs": [],
   "source": [
    "cv2.imshow(\"img\",img_kaze)\n",
    "cv2.waitKey(0)\n",
    "cv2.destroyAllWindows()"
   ]
  },
  {
   "cell_type": "code",
   "execution_count": 14,
   "metadata": {},
   "outputs": [],
   "source": [
    "# AKAZE\n",
    "img_akaze = copy.deepcopy(img)\n",
    "# 特徴検出器\n",
    "akaze = cv2.AKAZE_create()\n",
    "# 特徴点を抽出(入力画像、出力画像)\n",
    "kp1_akaze = akaze.detect(img,None)\n",
    "# 特徴点の描画(描画先画像、特徴点、？)\n",
    "img_akaze = cv2.drawKeypoints(img_akaze, kp1_akaze, None)"
   ]
  },
  {
   "cell_type": "code",
   "execution_count": 15,
   "metadata": {},
   "outputs": [],
   "source": [
    "cv2.imshow(\"img\",img_akaze)\n",
    "cv2.waitKey(0)\n",
    "cv2.destroyAllWindows()"
   ]
  },
  {
   "cell_type": "code",
   "execution_count": 16,
   "metadata": {},
   "outputs": [],
   "source": [
    "# ORB\n",
    "img_orb = copy.deepcopy(img)\n",
    "# 特徴検出器\n",
    "orb = cv2.ORB_create()\n",
    "# 特徴点を抽出\n",
    "kp2 = orb.detect(img)\n",
    "# 特徴点の描画(描画先画像、特徴点、？)\n",
    "img_orb = cv2.drawKeypoints(img_orb, kp2, None)"
   ]
  },
  {
   "cell_type": "code",
   "execution_count": 17,
   "metadata": {},
   "outputs": [],
   "source": [
    "cv2.imshow(\"img\",img_orb)\n",
    "cv2.waitKey(0)\n",
    "cv2.destroyAllWindows()"
   ]
  },
  {
   "cell_type": "code",
   "execution_count": 18,
   "metadata": {},
   "outputs": [],
   "source": [
    "# 比較\n",
    "# AKAZEの検出量が多め\n",
    "cv2.imshow(\"Harris\",img_harris)\n",
    "cv2.imshow(\"ORB\",img_orb)\n",
    "cv2.imshow(\"AKAZE\",img_akaze)\n",
    "cv2.waitKey(0)\n",
    "cv2.destroyAllWindows()"
   ]
  }
 ],
 "metadata": {
  "kernelspec": {
   "display_name": "base",
   "language": "python",
   "name": "python3"
  },
  "language_info": {
   "codemirror_mode": {
    "name": "ipython",
    "version": 3
   },
   "file_extension": ".py",
   "mimetype": "text/x-python",
   "name": "python",
   "nbconvert_exporter": "python",
   "pygments_lexer": "ipython3",
   "version": "3.11.6"
  }
 },
 "nbformat": 4,
 "nbformat_minor": 2
}
