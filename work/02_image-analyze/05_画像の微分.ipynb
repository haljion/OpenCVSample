{
 "cells": [
  {
   "cell_type": "markdown",
   "metadata": {},
   "source": [
    "# 画像の微分\n",
    "- 傾き = 隣の画素値 - 自分の画素値\n",
    "    - 画像の場合、隣のピクセルとの距離は一定なのでdxで割らない(dxが定数)\n",
    "- 微分するとエッジが検出できる"
   ]
  },
  {
   "cell_type": "markdown",
   "metadata": {},
   "source": [
    "# エッジの検出\n",
    "- Sobel\n",
    "- Laplacian\n",
    "    - 2次微分をするため細かい輝度の変化も拾う\n",
    "- Laplacian of Gaussian\n",
    "    - GaussianBlurをかけてからLaplacianフィルターをかける\n",
    "- canny\n",
    "    - ノイズをうまく取り除き、エッジを検出する\n",
    "    - 細かいエッジを残すために2段階の閾値処理を行う"
   ]
  },
  {
   "cell_type": "code",
   "execution_count": 1,
   "metadata": {},
   "outputs": [],
   "source": [
    "import cv2\n",
    "img = cv2.imread(\"../data/img/Lena.jpg\",0)"
   ]
  },
  {
   "cell_type": "code",
   "execution_count": 2,
   "metadata": {},
   "outputs": [],
   "source": [
    "cv2.imshow(\"img\",img)\n",
    "cv2.waitKey(0)\n",
    "cv2.destroyAllWindows()"
   ]
  },
  {
   "cell_type": "code",
   "execution_count": 4,
   "metadata": {},
   "outputs": [],
   "source": [
    "# Sobel\n",
    "# 微分する方向を選べる x方向だと垂直方向のエッジが検出しやすい\n",
    "# 画像、ビット深度, 微分方向, カーネルサイズ\n",
    "img_sobelx = cv2.Sobel(img, cv2.CV_32F, 1, 0, ksize=3)\n",
    "img_sobely = cv2.Sobel(img, cv2.CV_32F, 0, 1, ksize=3)"
   ]
  },
  {
   "cell_type": "code",
   "execution_count": 5,
   "metadata": {},
   "outputs": [
    {
     "data": {
      "text/plain": [
       "array([[   0.,   -4.,   -6., ...,  -72., -174.,    0.],\n",
       "       [   0.,   -1.,   -5., ...,  -68., -176.,    0.],\n",
       "       [   0.,    3.,   -5., ...,  -58., -169.,    0.],\n",
       "       ...,\n",
       "       [   0.,   31.,   14., ...,   -1.,  -12.,    0.],\n",
       "       [   0.,   51.,   26., ...,    6.,    9.,    0.],\n",
       "       [   0.,   58.,   28., ...,   10.,   20.,    0.]], dtype=float32)"
      ]
     },
     "execution_count": 5,
     "metadata": {},
     "output_type": "execute_result"
    }
   ],
   "source": [
    "img_sobelx"
   ]
  },
  {
   "cell_type": "code",
   "execution_count": 8,
   "metadata": {},
   "outputs": [
    {
     "data": {
      "text/plain": [
       "array([[  0,   4,   6, ...,  72, 174,   0],\n",
       "       [  0,   1,   5, ...,  68, 176,   0],\n",
       "       [  0,   3,   5, ...,  58, 169,   0],\n",
       "       ...,\n",
       "       [  0,  31,  14, ...,   1,  12,   0],\n",
       "       [  0,  51,  26, ...,   6,   9,   0],\n",
       "       [  0,  58,  28, ...,  10,  20,   0]], dtype=uint8)"
      ]
     },
     "execution_count": 8,
     "metadata": {},
     "output_type": "execute_result"
    }
   ],
   "source": [
    "# 0-255の値に変換\n",
    "img_sobelx = cv2.convertScaleAbs(img_sobelx)\n",
    "img_sobely = cv2.convertScaleAbs(img_sobely)\n",
    "img_sobelx"
   ]
  },
  {
   "cell_type": "code",
   "execution_count": 9,
   "metadata": {},
   "outputs": [],
   "source": [
    "cv2.imshow(\"x\",img_sobelx)\n",
    "cv2.imshow(\"y\",img_sobely)\n",
    "cv2.waitKey(0)\n",
    "cv2.destroyAllWindows()"
   ]
  },
  {
   "cell_type": "code",
   "execution_count": 12,
   "metadata": {},
   "outputs": [],
   "source": [
    "# Laplacian\n",
    "# 2次の微分(方向なし): 値が弱めになる\n",
    "# 画像、ビット深度\n",
    "img_lap = cv2.Laplacian(img, cv2.CV_32F)\n",
    "img_lap = cv2.convertScaleAbs(img_lap)"
   ]
  },
  {
   "cell_type": "code",
   "execution_count": 13,
   "metadata": {},
   "outputs": [],
   "source": [
    "# 2次の微分は値が弱めになるので2倍にするなどすることもある\n",
    "img_lap *= 2"
   ]
  },
  {
   "cell_type": "code",
   "execution_count": 15,
   "metadata": {},
   "outputs": [],
   "source": [
    "cv2.imshow(\"lap\",img_lap)\n",
    "cv2.waitKey(0)\n",
    "cv2.destroyAllWindows()"
   ]
  },
  {
   "cell_type": "code",
   "execution_count": 23,
   "metadata": {},
   "outputs": [],
   "source": [
    "# Laplacian of Gaussian\n",
    "# ノイズを消すのでエッジが検出しやすい\n",
    "img_blur = cv2.GaussianBlur(img, (3, 3), 2)\n",
    "img_lap2 = cv2.Laplacian(img_blur, cv2.CV_32F)\n",
    "img_lap2 = cv2.convertScaleAbs(img_lap2)"
   ]
  },
  {
   "cell_type": "code",
   "execution_count": 24,
   "metadata": {},
   "outputs": [],
   "source": [
    "img_lap2 *= 2"
   ]
  },
  {
   "cell_type": "code",
   "execution_count": 26,
   "metadata": {},
   "outputs": [],
   "source": [
    "cv2.imshow(\"lap\",img_lap2)\n",
    "cv2.waitKey(0)\n",
    "cv2.destroyAllWindows()"
   ]
  },
  {
   "cell_type": "code",
   "execution_count": 34,
   "metadata": {},
   "outputs": [],
   "source": [
    "# Canny\n",
    "# 画像、2つの閾値\n",
    "img_canny = cv2.Canny(img, 100, 200)\n",
    "cv2.imshow(\"canny\",img_canny)\n",
    "cv2.waitKey(0)\n",
    "cv2.destroyAllWindows()"
   ]
  },
  {
   "cell_type": "code",
   "execution_count": null,
   "metadata": {},
   "outputs": [],
   "source": []
  }
 ],
 "metadata": {
  "kernelspec": {
   "display_name": "base",
   "language": "python",
   "name": "python3"
  },
  "language_info": {
   "codemirror_mode": {
    "name": "ipython",
    "version": 3
   },
   "file_extension": ".py",
   "mimetype": "text/x-python",
   "name": "python",
   "nbconvert_exporter": "python",
   "pygments_lexer": "ipython3",
   "version": "3.11.6"
  }
 },
 "nbformat": 4,
 "nbformat_minor": 2
}
