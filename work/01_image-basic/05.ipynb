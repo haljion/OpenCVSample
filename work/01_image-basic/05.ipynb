{
 "cells": [
  {
   "cell_type": "markdown",
   "metadata": {},
   "source": [
    "# γ変換\n",
    "- 画像の明るさの変換方法"
   ]
  },
  {
   "cell_type": "code",
   "execution_count": 1,
   "metadata": {},
   "outputs": [],
   "source": [
    "import cv2\n",
    "import numpy as np\n"
   ]
  },
  {
   "cell_type": "code",
   "execution_count": 5,
   "metadata": {},
   "outputs": [],
   "source": [
    "# γが1より小さいと画像が暗くなる\n",
    "gamma = 0.4\n",
    "\n",
    "img = cv2.imread(\"src/Berry.jpg\")\n",
    "\n",
    "\n",
    "# 空行列\n",
    "gamma_cvt = np.zeros((256, 1), dtype=np.uint8)\n",
    "\n",
    "for i in range(255):\n",
    "    # γ変換式\n",
    "    gamma_cvt[i][0] = 255 * (float(i)/255) ** (1.0/gamma)\n",
    "    \n",
    "img_gamma = cv2.LUT(img, gamma_cvt)\n",
    "\n",
    "cv2.imshow(\"img\",img)\n",
    "cv2.imshow(\"gamma\",img_gamma)\n",
    "\n",
    "cv2.waitKey(0)\n",
    "cv2.destroyAllWindows()"
   ]
  },
  {
   "cell_type": "markdown",
   "metadata": {},
   "source": [
    "# トラックバーの作成\n",
    "- リアルタイムで画像のパラメータを生成するために使用"
   ]
  },
  {
   "cell_type": "code",
   "execution_count": 6,
   "metadata": {},
   "outputs": [],
   "source": [
    "import cv2"
   ]
  },
  {
   "cell_type": "code",
   "execution_count": 7,
   "metadata": {},
   "outputs": [],
   "source": [
    "def onTrackBar(position):\n",
    "    global trackValue\n",
    "    trackValue = position"
   ]
  },
  {
   "cell_type": "code",
   "execution_count": 13,
   "metadata": {},
   "outputs": [],
   "source": [
    "trackValue = 100\n",
    "cv2.namedWindow(\"img\")\n",
    "# 名前、window名、trackValue、最大値、トラックバー操作時実行関数\n",
    "cv2.createTrackbar(\"track\", \"img\", trackValue, 255, onTrackBar)\n",
    "\n",
    "cv2.waitKey(0)\n",
    "cv2.destroyAllWindows()"
   ]
  },
  {
   "cell_type": "markdown",
   "metadata": {},
   "source": [
    "# マウスイベント"
   ]
  },
  {
   "cell_type": "code",
   "execution_count": 14,
   "metadata": {},
   "outputs": [],
   "source": [
    "import cv2\n",
    "import numpy as np\n"
   ]
  },
  {
   "cell_type": "code",
   "execution_count": 21,
   "metadata": {},
   "outputs": [],
   "source": [
    "def print_position(event, x, y, flags, param):\n",
    "    # 左ダブルクリック時\n",
    "    if event == cv2.EVENT_LBUTTONDBLCLK:\n",
    "        print(x,y)"
   ]
  },
  {
   "cell_type": "code",
   "execution_count": 22,
   "metadata": {},
   "outputs": [
    {
     "name": "stdout",
     "output_type": "stream",
     "text": [
      "164 138\n",
      "215 144\n",
      "316 197\n"
     ]
    }
   ],
   "source": [
    "img = np.zeros((512,512), np.uint8)\n",
    "cv2.namedWindow(\"img\")\n",
    "# マウスイベント時に呼び出す関数の設定\n",
    "cv2.setMouseCallback(\"img\", print_position)\n",
    "\n",
    "cv2.imshow(\"img\",img)\n",
    "cv2.waitKey(0)\n",
    "cv2.destroyAllWindows()"
   ]
  }
 ],
 "metadata": {
  "kernelspec": {
   "display_name": "base",
   "language": "python",
   "name": "python3"
  },
  "language_info": {
   "codemirror_mode": {
    "name": "ipython",
    "version": 3
   },
   "file_extension": ".py",
   "mimetype": "text/x-python",
   "name": "python",
   "nbconvert_exporter": "python",
   "pygments_lexer": "ipython3",
   "version": "3.11.6"
  }
 },
 "nbformat": 4,
 "nbformat_minor": 2
}
