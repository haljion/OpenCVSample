{
 "cells": [
  {
   "cell_type": "markdown",
   "metadata": {},
   "source": [
    "# 図形の描画・文字の記述"
   ]
  },
  {
   "cell_type": "code",
   "execution_count": 1,
   "metadata": {},
   "outputs": [],
   "source": [
    "import cv2\n",
    "import numpy as np\n",
    "\n",
    "# 白画像\n",
    "img = np.ones((500,500,3)) * 255"
   ]
  },
  {
   "cell_type": "code",
   "execution_count": 14,
   "metadata": {},
   "outputs": [],
   "source": [
    "# 直線\n",
    "# 画像、始点、終点、色、線の太さ\n",
    "cv2.line(img, (0,0), (150,190), (255,0,0), 2)\n",
    "# 四角形\n",
    "# 画像、始点(左上)、終点(右下)、色、線の太さ\n",
    "cv2.rectangle(img, (100,25), (300,150), (0,255,0), 5)\n",
    "# 円\n",
    "# 画像、中心、半径、色、線の太さ(-1で塗りつぶし)\n",
    "cv2.circle(img, (100,100), 55, (0,0,255), -1)\n",
    "# 楕円\n",
    "# 画像、中心、(長軸、短軸)、角度、色、描画する角度の始点、終点、線の太さ(-1で塗りつぶし)\n",
    "cv2.ellipse(img, (250,250), (100,50), 20, 0, 360, (255,0,0), 1)\n",
    "\n",
    "# 折れ線\n",
    "points = np.array([[100,30], [200,30], [200,80], [100,50]])\n",
    "# 画像、点、始点と終点を線で繋ぐか(多角形として描画するか)、色、線の太さ(-1で塗りつぶし)\n",
    "cv2.polylines(img, [points], False, (100,255,0), 3)\n",
    "\n",
    "# テキスト\n",
    "# フォント\n",
    "font = cv2.FONT_HERSHEY_SIMPLEX\n",
    "# 画像、テキスト、座標、フォント種類、フォントサイズ、色、線の太さ, 線の種類\n",
    "cv2.putText(img, \"OpenCV\", (100,300), font, 1, (0,255,0), 3, cv2.LINE_AA)\n",
    "\n",
    "cv2.imshow(\"img\",img)\n",
    "cv2.waitKey(0)\n",
    "cv2.destroyAllWindows()"
   ]
  },
  {
   "cell_type": "code",
   "execution_count": null,
   "metadata": {},
   "outputs": [],
   "source": []
  }
 ],
 "metadata": {
  "kernelspec": {
   "display_name": "base",
   "language": "python",
   "name": "python3"
  },
  "language_info": {
   "codemirror_mode": {
    "name": "ipython",
    "version": 3
   },
   "file_extension": ".py",
   "mimetype": "text/x-python",
   "name": "python",
   "nbconvert_exporter": "python",
   "pygments_lexer": "ipython3",
   "version": "3.11.6"
  }
 },
 "nbformat": 4,
 "nbformat_minor": 2
}
