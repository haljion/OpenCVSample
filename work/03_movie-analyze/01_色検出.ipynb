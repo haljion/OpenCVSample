{
 "cells": [
  {
   "cell_type": "markdown",
   "metadata": {},
   "source": [
    "# 色検出"
   ]
  },
  {
   "cell_type": "code",
   "execution_count": 3,
   "metadata": {},
   "outputs": [],
   "source": [
    "# 動画から黄色を抜き出す\n",
    "import cv2\n",
    "import numpy as np\n",
    "cap = cv2.VideoCapture(\"../data/movie/Mobility.mp4\")"
   ]
  },
  {
   "cell_type": "code",
   "execution_count": 13,
   "metadata": {},
   "outputs": [],
   "source": [
    "while True:\n",
    "    cv2.namedWindow(\"img\", cv2.WINDOW_NORMAL)\n",
    "    cv2.resizeWindow(\"img\", 640, 480)\n",
    "    ret, frame = cap.read()\n",
    "    \n",
    "    if ret == False:\n",
    "        break\n",
    "    # BGR→HSV\n",
    "    hsv = cv2.cvtColor(frame, cv2.COLOR_BGR2HSV)\n",
    "    # (黄色と判定する)下限値、上限値\n",
    "    # 実際にはHは40程度\n",
    "    lower = np.array([20, 50, 50])\n",
    "    upper = np.array([25, 255, 255])\n",
    "    # マスク画像の作成\n",
    "    frame_mask = cv2.inRange(hsv, lower, upper)\n",
    "    # 2値画像の論理積を計算(？)\n",
    "    dst = cv2.bitwise_and(frame, frame, mask=frame_mask)\n",
    "    \n",
    "    cv2.imshow(\"img\",dst)\n",
    "    \n",
    "    if cv2.waitKey(10) == 27:\n",
    "        break\n",
    "\n",
    "cv2.destroyAllWindows()\n"
   ]
  },
  {
   "cell_type": "code",
   "execution_count": null,
   "metadata": {},
   "outputs": [],
   "source": []
  }
 ],
 "metadata": {
  "kernelspec": {
   "display_name": "base",
   "language": "python",
   "name": "python3"
  },
  "language_info": {
   "codemirror_mode": {
    "name": "ipython",
    "version": 3
   },
   "file_extension": ".py",
   "mimetype": "text/x-python",
   "name": "python",
   "nbconvert_exporter": "python",
   "pygments_lexer": "ipython3",
   "version": "3.11.6"
  }
 },
 "nbformat": 4,
 "nbformat_minor": 2
}
